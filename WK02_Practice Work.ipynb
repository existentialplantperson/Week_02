{
 "cells": [
  {
   "cell_type": "code",
   "execution_count": 2,
   "id": "839f979f",
   "metadata": {},
   "outputs": [
    {
     "name": "stdout",
     "output_type": "stream",
     "text": [
      "b is greater\n"
     ]
    }
   ],
   "source": [
    "#if ...elif ...else\n",
    "#if a equals b, return they are equal\n",
    "#if a>b return \"a is greater\"\n",
    "#if b>a return \"b is greater\"\n",
    "\n",
    "a=2\n",
    "b=3\n",
    "\n",
    "if a ==b:\n",
    "    print(\"they are equal\")\n",
    "elif a>b:\n",
    "    print(\"a is greater\")\n",
    "else:\n",
    "    print(\"b is greater\")"
   ]
  },
  {
   "cell_type": "code",
   "execution_count": null,
   "id": "883f96de",
   "metadata": {},
   "outputs": [],
   "source": [
    "#while loops\n",
    "#repeatedly test an expression and continue to run loop\n",
    "#until the condition is met\n",
    "\n",
    "x = 7\n",
    "while x > 5:\n",
    "    print(x)\n",
    "#    x = x - 1\n",
    "    x-=1\n",
    "    \n"
   ]
  },
  {
   "cell_type": "code",
   "execution_count": 3,
   "id": "8f227243",
   "metadata": {},
   "outputs": [
    {
     "name": "stdout",
     "output_type": "stream",
     "text": [
      "3\n",
      "4\n",
      "5\n",
      "6\n",
      "7\n",
      "8\n",
      "9\n"
     ]
    }
   ],
   "source": [
    "#create a scenario where x starts at 3, print value of x\n",
    "#while x < 10\n",
    "\n",
    "x = 3\n",
    "while x < 10:\n",
    "    print(x)\n",
    "    x+=1"
   ]
  },
  {
   "cell_type": "code",
   "execution_count": 4,
   "id": "8be3b077",
   "metadata": {},
   "outputs": [
    {
     "name": "stdout",
     "output_type": "stream",
     "text": [
      "Dexter\n",
      "Frank\n",
      "Basil\n",
      "Yaya\n",
      "Panda\n"
     ]
    }
   ],
   "source": [
    "# for Loops\n",
    "cats = ['Dexter', 'Frank', 'Basil', 'Yaya', 'Panda']\n",
    "for x in cats:\n",
    "    print(x)\n",
    "    \n",
    "#for every value in this sequence, print the value"
   ]
  },
  {
   "cell_type": "code",
   "execution_count": 7,
   "id": "66faa73c",
   "metadata": {},
   "outputs": [
    {
     "name": "stdout",
     "output_type": "stream",
     "text": [
      "0\n",
      "2\n",
      "4\n",
      "6\n",
      "8\n"
     ]
    }
   ],
   "source": [
    "#range(start, stop, [step])\n",
    "#start value is inclusive, stop value is not\n",
    "\n",
    "for r in range(0,10,2):\n",
    "    print(r)"
   ]
  },
  {
   "cell_type": "code",
   "execution_count": 10,
   "id": "ddd87c41",
   "metadata": {},
   "outputs": [
    {
     "name": "stdout",
     "output_type": "stream",
     "text": [
      "b is greater\n",
      "a is greater\n"
     ]
    }
   ],
   "source": [
    "#functions\n",
    "#functions let us encapsulate chunks of code that \n",
    "#we might want to use again\n",
    "def comparing(a,b):\n",
    "    if a == b:\n",
    "        print (\"they are equal\")\n",
    "    elif a>b:\n",
    "        print(\"a is greater\")\n",
    "    else:\n",
    "        print(\"b is greater\")\n",
    "        \n",
    "comparing(7,10)\n",
    "comparing(12,10)"
   ]
  },
  {
   "cell_type": "code",
   "execution_count": null,
   "id": "1f84991b",
   "metadata": {},
   "outputs": [],
   "source": []
  }
 ],
 "metadata": {
  "kernelspec": {
   "display_name": "Python 3 (ipykernel)",
   "language": "python",
   "name": "python3"
  },
  "language_info": {
   "codemirror_mode": {
    "name": "ipython",
    "version": 3
   },
   "file_extension": ".py",
   "mimetype": "text/x-python",
   "name": "python",
   "nbconvert_exporter": "python",
   "pygments_lexer": "ipython3",
   "version": "3.9.7"
  }
 },
 "nbformat": 4,
 "nbformat_minor": 5
}
